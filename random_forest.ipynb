{
 "cells": [
  {
   "cell_type": "code",
   "execution_count": 1,
   "id": "3182e05f",
   "metadata": {},
   "outputs": [],
   "source": [
    "from csv import reader\n",
    "from ast import literal_eval\n",
    "import pandas as pd\n",
    "from sklearn.model_selection import train_test_split\n",
    "from sklearn.ensemble import RandomForestClassifier\n",
    "from sklearn.metrics import accuracy_score, f1_score, precision_score, recall_score, classification_report, confusion_matrix\n",
    "import numpy as np\n",
    "from sklearn import utils\n",
    "from sklearn.model_selection import KFold "
   ]
  },
  {
   "cell_type": "code",
   "execution_count": 2,
   "id": "96a9a2f7",
   "metadata": {},
   "outputs": [],
   "source": [
    "def parse_matrix_into_vector( data):\n",
    "    matrix = literal_eval(data)\n",
    "    row = []\n",
    "    for i in range(0, len(matrix)):\n",
    "        for j in range(0, len(matrix[0])):\n",
    "            row.append(matrix[i][j])\n",
    "    return row\n",
    "    \n",
    "assert parse_matrix_into_vector('[[0, 1, 2], [3, 4, 5], [6, 7, 8]]')  == [0, 1, 2, 3, 4, 5, 6, 7, 8]  "
   ]
  },
  {
   "cell_type": "code",
   "execution_count": 3,
   "id": "f5da5c4c",
   "metadata": {},
   "outputs": [],
   "source": [
    "def parse_str_to_list( data):\n",
    "    return 99 if len(literal_eval(data)) == 2 else int(literal_eval(data)[0])\n",
    "    \n",
    "assert parse_str_to_list(\"[1]\") == 1\n",
    "assert parse_str_to_list(\"[1, 2]\") == 99"
   ]
  },
  {
   "cell_type": "code",
   "execution_count": 4,
   "id": "440442f8",
   "metadata": {},
   "outputs": [],
   "source": [
    "def add_dims_as_cols(adict, keyaffix, data):\n",
    "    for i in range(0, len(data)):\n",
    "        adict[f\"{keyaffix}_{i}\"] = data[i]\n",
    "    return adict\n",
    "        \n",
    "assert add_dims_as_cols({}, \"prev\", [0, 0, 0, 0, 1, 0, 0, 0, 0]) == {'prev_0': 0,\n",
    " 'prev_1': 0,\n",
    " 'prev_2': 0,\n",
    " 'prev_3': 0,\n",
    " 'prev_4': 1,\n",
    " 'prev_5': 0,\n",
    " 'prev_6': 0,\n",
    " 'prev_7': 0,\n",
    " 'prev_8': 0}"
   ]
  },
  {
   "cell_type": "code",
   "execution_count": 5,
   "id": "a3b41f2e",
   "metadata": {},
   "outputs": [],
   "source": [
    "# Data munging"
   ]
  },
  {
   "cell_type": "code",
   "execution_count": 6,
   "id": "5fad71bf",
   "metadata": {},
   "outputs": [],
   "source": [
    "def read_parse_csv(fname):\n",
    "    # open file in read mode\n",
    "    all_csv = []\n",
    "    with open(fname, \"r\") as read_obj:\n",
    "        # pass the file object to reader() to get the reader object\n",
    "        csv_reader = reader(read_obj)\n",
    "        # Iterate over each row in the csv using reader object\n",
    "        for row in csv_reader:\n",
    "            # row variable is a list that represents a row in csv\n",
    "            r = {\n",
    "                \"prev_state\": literal_eval(row[0]),\n",
    "                \"prev_vect\": parse_matrix_into_vector( row[0]),\n",
    "                \"curr_state\": literal_eval(row[1]),\n",
    "                \"curr_vect\": parse_matrix_into_vector( row[1]),\n",
    "                \"move_by\": int(row[2]),\n",
    "                \"outcome\": parse_str_to_list(row[3])\n",
    "            }\n",
    "            r = add_dims_as_cols(r, \"prev\", r[\"prev_vect\"])\n",
    "            r = add_dims_as_cols(r, \"curr\", r[\"curr_vect\"])\n",
    "            all_csv.append(r)\n",
    "    return all_csv\n",
    "        \n"
   ]
  },
  {
   "cell_type": "code",
   "execution_count": 7,
   "id": "103bc478",
   "metadata": {},
   "outputs": [],
   "source": [
    "def generate_df(listofdicts):\n",
    "    df = pd.DataFrame(listofdicts)\n",
    "    df = df.drop(\"prev_state\", 1)\n",
    "    df = df.drop(\"curr_state\", 1)\n",
    "    df = df.drop(\"prev_vect\", 1)\n",
    "    df = df.drop(\"curr_vect\", 1)\n",
    "    return df"
   ]
  },
  {
   "cell_type": "code",
   "execution_count": null,
   "id": "d256f4fb",
   "metadata": {},
   "outputs": [],
   "source": [
    "# Model building"
   ]
  },
  {
   "cell_type": "code",
   "execution_count": 8,
   "id": "ed68588c",
   "metadata": {},
   "outputs": [],
   "source": [
    "def build_model(df, X, y, n_estimators):\n",
    "    # Split dataset into training set and test set\n",
    "    X_train, X_test, y_train, y_test = train_test_split(X, y, test_size=0.4) \n",
    "    #Create a Gaussian Classifier\n",
    "    clf=RandomForestClassifier(n_estimators)\n",
    "\n",
    "    #Train the model using the training sets y_pred=clf.predict(X_test)\n",
    "    clf.fit(X_train,y_train)\n",
    "\n",
    "    # Predict\n",
    "    y_pred=clf.predict(X_test)\n",
    "    \n",
    "    print(f\"F1: {round(f1_score(y_test, y_pred, average='macro'), 2)}\")\n",
    "    print(f\"precision: {round(precision_score(y_test, y_pred, average='macro'), 2)}\")\n",
    "    print(f\"recall: {round(recall_score(y_test, y_pred, average='macro'), 2)}\")\n",
    "    print(f\"accuracy (train): {round(clf.score(X_train,y_train), 2)}\")\n",
    "    print(f\"accuracy (test): {round(clf.score(X_test,y_test), 2)}\")\n",
    "    return clf"
   ]
  },
  {
   "cell_type": "code",
   "execution_count": 9,
   "id": "3ead5ebb",
   "metadata": {},
   "outputs": [],
   "source": [
    "# K-fold"
   ]
  },
  {
   "cell_type": "code",
   "execution_count": 11,
   "id": "fe8fb7bd",
   "metadata": {},
   "outputs": [],
   "source": [
    "# Implementing cross validation\n",
    " \n",
    "def run_kfold_cross_validation(df, X, y, num_k):\n",
    "    k = num_k\n",
    "    kf = KFold(n_splits=k, random_state=None)\n",
    "    model=RandomForestClassifier(n_estimators=100)\n",
    "    acc_scores, f1_scores, precision_scores, recall_scores  = [], [], [], []\n",
    "\n",
    "    for train_index , test_index in kf.split(X):\n",
    "        X_train , X_test = X.iloc[train_index,:],X.iloc[test_index,:]\n",
    "        y_train , y_test = y[train_index] , y[test_index]\n",
    "\n",
    "        model.fit(X_train,y_train)\n",
    "        y_pred = model.predict(X_test)\n",
    "\n",
    "        acc = accuracy_score(y_pred , y_test)\n",
    "        f1 = f1_score(y_test, y_pred, average='macro')\n",
    "        precision = precision_score(y_test, y_pred, average='macro')\n",
    "        recall = recall_score(y_test, y_pred, average='macro')\n",
    "        acc_scores.append(acc)\n",
    "        f1_scores.append(f1)\n",
    "        precision_scores.append(precision)\n",
    "        recall_scores.append(recall)\n",
    "\n",
    "    avg_acc_score = round(sum(acc_scores)/k, 2)\n",
    "    avg_f1_score = round(sum(f1_scores)/k, 2)\n",
    "    avg_prec_score = round(sum(precision_scores)/k, 2)\n",
    "    avg_recall_score = round(sum(recall_scores)/k, 2)\n",
    "    return {\n",
    "        \"avg_acc_score\": avg_acc_score,\n",
    "        \"avg_f1_score\": avg_f1_score,\n",
    "        \"avg_prec_score\": avg_prec_score,\n",
    "        \"avg_recall_score\": avg_recall_score\n",
    "    }"
   ]
  },
  {
   "cell_type": "code",
   "execution_count": 14,
   "id": "2f9da816",
   "metadata": {},
   "outputs": [
    {
     "name": "stderr",
     "output_type": "stream",
     "text": [
      "<ipython-input-7-9eaa20a846dc>:3: FutureWarning: In a future version of pandas all arguments of DataFrame.drop except for the argument 'labels' will be keyword-only.\n",
      "  df = df.drop(\"prev_state\", 1)\n",
      "<ipython-input-7-9eaa20a846dc>:4: FutureWarning: In a future version of pandas all arguments of DataFrame.drop except for the argument 'labels' will be keyword-only.\n",
      "  df = df.drop(\"curr_state\", 1)\n",
      "<ipython-input-7-9eaa20a846dc>:5: FutureWarning: In a future version of pandas all arguments of DataFrame.drop except for the argument 'labels' will be keyword-only.\n",
      "  df = df.drop(\"prev_vect\", 1)\n",
      "<ipython-input-7-9eaa20a846dc>:6: FutureWarning: In a future version of pandas all arguments of DataFrame.drop except for the argument 'labels' will be keyword-only.\n",
      "  df = df.drop(\"curr_vect\", 1)\n"
     ]
    },
    {
     "name": "stdout",
     "output_type": "stream",
     "text": [
      "Build model\n",
      "F1: 0.93\n",
      "precision: 0.98\n",
      "recall: 0.9\n",
      "accuracy (train): 1.0\n",
      "accuracy (test): 0.98\n",
      "\n",
      "K-Fold Cross-Validation\n"
     ]
    },
    {
     "name": "stderr",
     "output_type": "stream",
     "text": [
      "/opt/anaconda3/envs/advAI_game/lib/python3.8/site-packages/sklearn/metrics/_classification.py:1318: UndefinedMetricWarning: Precision is ill-defined and being set to 0.0 in labels with no predicted samples. Use `zero_division` parameter to control this behavior.\n",
      "  _warn_prf(average, modifier, msg_start, len(result))\n",
      "/opt/anaconda3/envs/advAI_game/lib/python3.8/site-packages/sklearn/metrics/_classification.py:1318: UndefinedMetricWarning: Precision is ill-defined and being set to 0.0 in labels with no predicted samples. Use `zero_division` parameter to control this behavior.\n",
      "  _warn_prf(average, modifier, msg_start, len(result))\n"
     ]
    },
    {
     "name": "stdout",
     "output_type": "stream",
     "text": [
      "{'avg_acc_score': 0.98, 'avg_f1_score': 0.92, 'avg_prec_score': 0.95, 'avg_recall_score': 0.9}\n"
     ]
    }
   ],
   "source": [
    "def run_rf_3x3():\n",
    "    fname = \"rf_3x3_data.csv\"\n",
    "    csvdicts = read_parse_csv(fname)\n",
    "    df = generate_df(csvdicts)\n",
    "    print(\"Build model\")\n",
    "    build_model(df, X=df.iloc[:, np.r_[0, 2:20]], y=df[\"outcome\"], n_estimators=100)\n",
    "    print(\"\\nK-Fold Cross-Validation\")\n",
    "    print(run_kfold_cross_validation(df, X=df.iloc[:, np.r_[0, 2:20]], y=df[\"outcome\"], num_k=10))\n",
    "\n",
    "run_rf_3x3()"
   ]
  },
  {
   "cell_type": "code",
   "execution_count": null,
   "id": "a34d958a",
   "metadata": {},
   "outputs": [],
   "source": []
  }
 ],
 "metadata": {
  "kernelspec": {
   "display_name": "Python (advAI-game)",
   "language": "python",
   "name": "advai-game"
  },
  "language_info": {
   "codemirror_mode": {
    "name": "ipython",
    "version": 3
   },
   "file_extension": ".py",
   "mimetype": "text/x-python",
   "name": "python",
   "nbconvert_exporter": "python",
   "pygments_lexer": "ipython3",
   "version": "3.8.12"
  },
  "varInspector": {
   "cols": {
    "lenName": 16,
    "lenType": 16,
    "lenVar": 40
   },
   "kernels_config": {
    "python": {
     "delete_cmd_postfix": "",
     "delete_cmd_prefix": "del ",
     "library": "var_list.py",
     "varRefreshCmd": "print(var_dic_list())"
    },
    "r": {
     "delete_cmd_postfix": ") ",
     "delete_cmd_prefix": "rm(",
     "library": "var_list.r",
     "varRefreshCmd": "cat(var_dic_list()) "
    }
   },
   "types_to_exclude": [
    "module",
    "function",
    "builtin_function_or_method",
    "instance",
    "_Feature"
   ],
   "window_display": false
  }
 },
 "nbformat": 4,
 "nbformat_minor": 5
}
