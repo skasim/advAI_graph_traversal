{
 "cells": [
  {
   "cell_type": "code",
   "execution_count": 1,
   "id": "d1d5b278",
   "metadata": {},
   "outputs": [],
   "source": [
    "from typing import List, Tuple\n",
    "import snoop\n",
    "from pprint import pprint\n",
    "import os"
   ]
  },
  {
   "cell_type": "code",
   "execution_count": 2,
   "id": "83504a8f",
   "metadata": {},
   "outputs": [],
   "source": [
    "def write_file(fname, command):\n",
    "    with open(f\"io/{fname}.txt\", \"w\") as f: # not appending on purpose\n",
    "        f.write(command)\n",
    "        \n",
    "def read_file(fname):\n",
    "    with open(f\"io/{fname}.txt\") as f:\n",
    "        return f.read()"
   ]
  },
  {
   "cell_type": "code",
   "execution_count": 3,
   "id": "c3b49294",
   "metadata": {},
   "outputs": [],
   "source": [
    "board_old = [\n",
    "    [0, 1, 0],\n",
    "    [0, 0, 2],\n",
    "    [0, 0, 0]]\n",
    "board_new = [\n",
    "    [0, 0, 0],\n",
    "    [0, 0, 0],\n",
    "    [1, 0, 0]]\n",
    "# 0 = empty, 1 = X, 2 = O"
   ]
  },
  {
   "cell_type": "code",
   "execution_count": 4,
   "id": "19494409",
   "metadata": {},
   "outputs": [],
   "source": [
    "def get_latest_move(prev_state: List[List[int]], current_state: List[List[int]])-> Tuple[int, int]:            \n",
    "    return [(i, j) for i in range(0, len(prev_state)) for j in range(0, len(current_state[0])) if prev_state[i][j] != current_state[i][j]][0]"
   ]
  },
  {
   "cell_type": "code",
   "execution_count": 5,
   "id": "3e7e0779",
   "metadata": {},
   "outputs": [],
   "source": [
    "assert get_latest_move(board_old, board_new) == (0,1)"
   ]
  },
  {
   "cell_type": "code",
   "execution_count": 6,
   "id": "5bf9db74",
   "metadata": {},
   "outputs": [],
   "source": [
    "def adjacency_check(i, j, matrix, num_neighbors=2):\n",
    "    min_i = 0 \n",
    "    min_j = 0\n",
    "    max_i = len(matrix) - 1\n",
    "    max_j = len(matrix[0]) - 1\n",
    "    \n",
    "    start_pos_i = i + (i - min_i) if i - num_neighbors < min_i else i - num_neighbors\n",
    "    start_pos_j = j + (j - min_j) if j - num_neighbors < min_j else j - num_neighbors\n",
    "    end_pos_i = i + (max_i - i) if i + num_neighbors > max_i else i + num_neighbors\n",
    "    end_pos_j = j + (max_j - j) if j + num_neighbors > max_j else j + num_neighbors  \n",
    "\n",
    "    locs = []\n",
    "    for _i in range(start_pos_i, end_pos_i + 1):\n",
    "        for _j in range(start_pos_j, end_pos_j + 1): \n",
    "            locs.append((_i, _j))\n",
    "    horizontal = [loc for loc in locs if loc[0]==i]\n",
    "    vertical = [loc for loc in locs if loc[1]==j]\n",
    "    diagonal = [loc for loc in locs if loc[0]==loc[1]]\n",
    "    antidiagonal = [loc for loc in locs if loc[0]+loc[1]==(i+j)]\n",
    "    return {\n",
    "        \"horizontal\": horizontal,\n",
    "        \"vertical\": vertical,\n",
    "        \"diagonal\": diagonal,\n",
    "        \"antidiagonal\": antidiagonal\n",
    "    }"
   ]
  },
  {
   "cell_type": "code",
   "execution_count": 7,
   "id": "65083599",
   "metadata": {},
   "outputs": [
    {
     "name": "stdout",
     "output_type": "stream",
     "text": [
      "{'antidiagonal': [(2, 4), (3, 3), (4, 2)],\n",
      " 'diagonal': [(1, 1), (2, 2), (3, 3), (4, 4)],\n",
      " 'horizontal': [(3, 1), (3, 2), (3, 3), (3, 4)],\n",
      " 'vertical': [(1, 3), (2, 3), (3, 3), (4, 3)]}\n"
     ]
    }
   ],
   "source": [
    "board_adj = [\n",
    "    [1, 2, 3, 4, 5],\n",
    "    [6, 7, 8, 9, 10],\n",
    "    [11, 12, 13, 14, 15],\n",
    "    [16, 17, 18, 19, 20],\n",
    "    [21, 22, 23, 24, 25]]\n",
    "\n",
    "ba = adjacency_check(i=3, j=3, matrix=board_adj)\n",
    "assert ba[\"horizontal\"] == [(3, 1), (3, 2), (3, 3), (3, 4)]\n",
    "assert ba[\"vertical\"] == [(1, 3), (2, 3), (3, 3), (4, 3)]\n",
    "assert ba[\"diagonal\"] == [(1, 1), (2, 2), (3, 3), (4, 4)]\n",
    "assert ba[\"antidiagonal\"] == [(2, 4), (3, 3), (4, 2)]\n",
    "pprint(ba)"
   ]
  },
  {
   "cell_type": "code",
   "execution_count": 8,
   "id": "3198830d",
   "metadata": {},
   "outputs": [],
   "source": [
    "# num_neighbors 0 == the initial x square\n",
    "# num_neighbors 1 == the initial x square plus 1 neighbor\n",
    "def horizontal_left_search(i, j, matrix, num_neighbors, symbol):\n",
    "    min_i = 0 \n",
    "    min_j = 0\n",
    "    max_i = len(matrix) - 1\n",
    "    max_j = len(matrix[0]) - 1\n",
    "    \n",
    "    xs = []\n",
    "    for n in range(1, num_neighbors+1):\n",
    "        _i = i\n",
    "        _j = j - n\n",
    "        if _i >= min_i and _j >= min_j and _i <= max_i and _j <= max_j:\n",
    "            xs.append(matrix[_i][_j])\n",
    "    if len(xs) != num_neighbors:\n",
    "        return False\n",
    "    return all(item == symbol for item in xs)\n",
    "\n",
    "board = [\n",
    "    [ 1,  2,  3,  4,  5],\n",
    "    [ 6,  7,  8,  9, 10],\n",
    "    [1, 1, 13, 14, 15],\n",
    "    [16, 17, 18, 19, 20],\n",
    "    [21, 22, 23, 24, 25]]\n",
    "assert horizontal_left_search(i=2, j=1, matrix=board, num_neighbors=2, symbol=1) == False\n",
    "assert horizontal_left_search(i=2, j=1, matrix=board, num_neighbors=1, symbol=1) == True"
   ]
  },
  {
   "cell_type": "code",
   "execution_count": 9,
   "id": "5a5d1b14",
   "metadata": {},
   "outputs": [],
   "source": [
    "def horizontal_right_search(i, j, matrix, num_neighbors, symbol):\n",
    "    min_i = 0 \n",
    "    min_j = 0\n",
    "    max_i = len(matrix) - 1\n",
    "    max_j = len(matrix[0]) - 1\n",
    "    \n",
    "    xs = []\n",
    "    for n in range(1, num_neighbors+1):\n",
    "        _i = i\n",
    "        _j = j + n\n",
    "        if _i >= min_i and _j >= min_j and _i <= max_i and _j <= max_j:\n",
    "            xs.append(matrix[_i][_j])\n",
    "    if len(xs) != num_neighbors:\n",
    "        return False\n",
    "    return all(item == symbol for item in xs)\n",
    "\n",
    "board1 = [\n",
    "    [ 1,  2,  3,  4,  5],\n",
    "    [ 6,  7,  8,  9, 10],\n",
    "    [11, 1, 1, 1, 15],\n",
    "    [16, 17, 18, 19, 20],\n",
    "    [21, 22, 23, 24, 25]]\n",
    "board2 = [\n",
    "    [ 1,  2,  3,  4,  5],\n",
    "    [ 6,  7,  8,  9, 10],\n",
    "    [11,  1, 0, 1, 15],\n",
    "    [16, 17, 18, 19, 20],\n",
    "    [21, 22, 23, 24, 25]]\n",
    "assert horizontal_right_search(i=2, j=1, matrix=board1, num_neighbors=2, symbol=1) == True\n",
    "assert horizontal_right_search(i=2, j=1, matrix=board2, num_neighbors=2, symbol=1) == False"
   ]
  },
  {
   "cell_type": "code",
   "execution_count": 10,
   "id": "d9f9766f",
   "metadata": {},
   "outputs": [],
   "source": [
    "def vertical_up_search(i, j, matrix, num_neighbors, symbol):\n",
    "    min_i = 0 \n",
    "    min_j = 0\n",
    "    max_i = len(matrix) - 1\n",
    "    max_j = len(matrix[0]) - 1\n",
    "    \n",
    "    xs = []\n",
    "    for n in range(1, num_neighbors+1):\n",
    "        _i = i - n\n",
    "        _j = j\n",
    "        if _i >= min_i and _j >= min_j and _i <= max_i and _j <= max_j:\n",
    "            xs.append(matrix[_i][_j])\n",
    "    if len(xs) != num_neighbors:\n",
    "        return False\n",
    "    return all(item == symbol for item in xs)\n",
    "\n",
    "board = [\n",
    "    [ 1,  2,  3,  4,  5],\n",
    "    [ 6,  7,  8,  9, 10],\n",
    "    [11, 12, 13, 14, 15],\n",
    "    [16, 17, 18, 19, 20],\n",
    "    [21, 22, 23, 24, 25]]\n",
    "assert vertical_up_search(i=2, j=1, matrix=board, num_neighbors=2, symbol=1) == False"
   ]
  },
  {
   "cell_type": "code",
   "execution_count": 11,
   "id": "a48c98f9",
   "metadata": {},
   "outputs": [],
   "source": [
    "def vertical_down_search(i, j, matrix, num_neighbors, symbol):\n",
    "    min_i = 0 \n",
    "    min_j = 0\n",
    "    max_i = len(matrix) - 1\n",
    "    max_j = len(matrix[0]) - 1\n",
    "    \n",
    "    xs = []\n",
    "    for n in range(1, num_neighbors+1):\n",
    "        _i = i + n\n",
    "        _j = j\n",
    "        if _i >= min_i and _j >= min_j and _i <= max_i and _j <= max_j:\n",
    "            xs.append(matrix[_i][_j])\n",
    "    if len(xs) != num_neighbors:\n",
    "        return False\n",
    "    return all(item == symbol for item in xs)\n",
    "\n",
    "board1 = [\n",
    "    [ 1,  2,  3,  4,  5],\n",
    "    [ 6,  7,  8,  9, 10],\n",
    "    [11, 1, 13, 14, 15],\n",
    "    [16, 1, 18, 19, 20],\n",
    "    [21, 1, 23, 24, 25]]\n",
    "\n",
    "board2 = [\n",
    "    [ 1,  2,  3,  4,  5],\n",
    "    [ 6,  7,  8,  9, 10],\n",
    "    [11, 1, 13, 14, 15],\n",
    "    [16, 0, 18, 19, 20],\n",
    "    [21, 1, 23, 24, 25]]\n",
    "assert vertical_down_search(i=2, j=1, matrix=board1, num_neighbors=2, symbol=1) == True\n",
    "assert vertical_down_search(i=2, j=1, matrix=board2, num_neighbors=2, symbol=1) == False"
   ]
  },
  {
   "cell_type": "code",
   "execution_count": 12,
   "id": "11f85dec",
   "metadata": {},
   "outputs": [],
   "source": [
    "def diagonal_left_search(i, j, matrix, num_neighbors, symbol):\n",
    "    min_i = 0 \n",
    "    min_j = 0\n",
    "    max_i = len(matrix) - 1\n",
    "    max_j = len(matrix[0]) - 1\n",
    "    \n",
    "    xs = []\n",
    "    for n in range(1, num_neighbors+1):\n",
    "        _i = i - n\n",
    "        _j = j - n \n",
    "        if _i >= min_i and _j >= min_j and _i <= max_i and _j <= max_j:\n",
    "            xs.append(matrix[_i][_j])\n",
    "    if len(xs) != num_neighbors:\n",
    "        return False\n",
    "    return all(item == symbol for item in xs)\n",
    "\n",
    "board = [\n",
    "    [ 1,  2,  3,  4,  5],\n",
    "    [ 6,  1,  8,  9, 10],\n",
    "    [11, 12, 1, 14, 15],\n",
    "    [16, 17, 18, 19, 20],\n",
    "    [21, 22, 23, 24, 25]]\n",
    "assert diagonal_left_search(i=2, j=2, matrix=board, num_neighbors=2, symbol=1) == True"
   ]
  },
  {
   "cell_type": "code",
   "execution_count": 13,
   "id": "738295fb",
   "metadata": {},
   "outputs": [
    {
     "data": {
      "text/plain": [
       "False"
      ]
     },
     "execution_count": 13,
     "metadata": {},
     "output_type": "execute_result"
    }
   ],
   "source": [
    "def diagonal_right_search(i, j, matrix, num_neighbors, symbol):\n",
    "    min_i = 0 \n",
    "    min_j = 0\n",
    "    max_i = len(matrix) - 1\n",
    "    max_j = len(matrix[0]) - 1\n",
    "    \n",
    "    xs = []\n",
    "    for n in range(1, num_neighbors+1):\n",
    "        _i = i + n\n",
    "        _j = j + n \n",
    "        if _i >= min_i and _j >= min_j and _i <= max_i and _j <= max_j:\n",
    "            xs.append(matrix[_i][_j])\n",
    "    if len(xs) != num_neighbors:\n",
    "        return False\n",
    "    return all(item == symbol for item in xs)\n",
    "\n",
    "board = [\n",
    "    [ 1,  2,  3,  4,  5],\n",
    "    [ 6,  7,  8,  9, 10],\n",
    "    [11, 12, 13, 14, 15],\n",
    "    [16, 17, 18, 19, 20],\n",
    "    [21, 22, 23, 24, 25]]\n",
    "diagonal_right_search(i=2, j=2, matrix=board, num_neighbors=2, symbol=1)"
   ]
  },
  {
   "cell_type": "code",
   "execution_count": 14,
   "id": "d4a8a997",
   "metadata": {},
   "outputs": [
    {
     "data": {
      "text/plain": [
       "False"
      ]
     },
     "execution_count": 14,
     "metadata": {},
     "output_type": "execute_result"
    }
   ],
   "source": [
    "def antidiagonal_left_search(i, j, matrix, num_neighbors, symbol):\n",
    "    min_i = 0 \n",
    "    min_j = 0\n",
    "    max_i = len(matrix) - 1\n",
    "    max_j = len(matrix[0]) - 1\n",
    "    \n",
    "    xs = []\n",
    "    for n in range(1, num_neighbors):\n",
    "        _i = i - n\n",
    "        _j = j - n \n",
    "        if _i >= min_i and _j >= min_j and _i <= max_i and _j <= max_j:\n",
    "            xs.append(matrix[_i][_j])\n",
    "    if len(xs) != num_neighbors+1:\n",
    "        return False\n",
    "    return all(item == symbol for item in xs)\n",
    "\n",
    "board = [\n",
    "    [ 1,  2,  3,  4,  5],\n",
    "    [ 6,  7,  8,  9, 10],\n",
    "    [11, 12, 13, 14, 15],\n",
    "    [16, 17, 18, 19, 20],\n",
    "    [21, 22, 23, 24, 25]]\n",
    "antidiagonal_left_search(i=2, j=2, matrix=board, num_neighbors=2, symbol=1)"
   ]
  },
  {
   "cell_type": "code",
   "execution_count": 15,
   "id": "98851528",
   "metadata": {},
   "outputs": [
    {
     "data": {
      "text/plain": [
       "False"
      ]
     },
     "execution_count": 15,
     "metadata": {},
     "output_type": "execute_result"
    }
   ],
   "source": [
    "def antidiagonal_right_search(i, j, matrix, num_neighbors, symbol):\n",
    "    min_i = 0 \n",
    "    min_j = 0\n",
    "    max_i = len(matrix) - 1\n",
    "    max_j = len(matrix[0]) - 1\n",
    "    \n",
    "    xs = []\n",
    "    for n in range(0, num_neighbors+1):\n",
    "        _i = i + n\n",
    "        _j = j + n \n",
    "        if _i >= min_i and _j >= min_j and _i <= max_i and _j <= max_j:\n",
    "            xs.append(matrix[_i][_j])\n",
    "    if len(xs) != num_neighbors+1:\n",
    "        return False\n",
    "    return all(item == symbol for item in xs)\n",
    "\n",
    "board = [\n",
    "    [ 1,  2,  3,  4,  5],\n",
    "    [ 6,  7,  8,  9, 10],\n",
    "    [11, 12, 13, 14, 15],\n",
    "    [16, 17, 18, 19, 20],\n",
    "    [21, 22, 23, 24, 25]]\n",
    "antidiagonal_right_search(i=2, j=2, matrix=board, num_neighbors=2, symbol=1)"
   ]
  },
  {
   "cell_type": "code",
   "execution_count": 16,
   "id": "351f1dac",
   "metadata": {},
   "outputs": [],
   "source": [
    "def check_move_made_inbetween_two_moves(i, j, matrix, symbol):\n",
    "        horizontal = all([horizontal_left_search(i, j, matrix, num_neighbors=1, symbol=symbol),\n",
    "                         horizontal_right_search(i, j, matrix, num_neighbors=1, symbol=symbol)])\n",
    "        vertical = all([vertical_up_search(i, j, matrix, num_neighbors=1, symbol=symbol),\n",
    "                        vertical_down_search(i, j, matrix, num_neighbors=1, symbol=symbol)])\n",
    "        diagonal = all([diagonal_right_search(i, j, matrix, num_neighbors=1, symbol=symbol),\n",
    "                       diagonal_left_search(i, j, matrix, num_neighbors=1, symbol=symbol)])\n",
    "        antidiagonal = all([antidiagonal_right_search(i, j, matrix, num_neighbors=1, symbol=symbol),\n",
    "                        antidiagonal_left_search(i, j, matrix, num_neighbors=1, symbol=symbol)])\n",
    "        return any([horizontal, vertical, diagonal, antidiagonal])  \n",
    "\n",
    "\n",
    "\n",
    "board3 = [\n",
    "    [1, 1, 1],\n",
    "    [1, 0, 0],\n",
    "    [0, 0, 0]]    \n",
    "assert check_move_made_inbetween_two_moves(i=0, j=1, matrix=board3, symbol=1) == True\n",
    "assert check_move_made_inbetween_two_moves(i=1, j=1, matrix=board3, symbol=1) == False"
   ]
  },
  {
   "cell_type": "code",
   "execution_count": 17,
   "id": "2c1c0e6c",
   "metadata": {},
   "outputs": [],
   "source": [
    "def check_move_made_inbetween_three_moves(i, j, matrix, symbol):\n",
    "    # scenario x X x x\n",
    "    horizontal1 = all([horizontal_left_search(i, j, matrix, num_neighbors=1, symbol=symbol),\n",
    "                     horizontal_right_search(i, j, matrix, num_neighbors=2, symbol=symbol)])\n",
    "    vertical1 = all([vertical_up_search(i, j, matrix, num_neighbors=1, symbol=symbol),\n",
    "                    vertical_down_search(i, j, matrix, num_neighbors=2, symbol=symbol)])\n",
    "    diagonal1 = all([diagonal_right_search(i, j, matrix, num_neighbors=1, symbol=symbol),\n",
    "                   diagonal_left_search(i, j, matrix, num_neighbors=2, symbol=symbol)])\n",
    "    antidiagonal1 = all([antidiagonal_right_search(i, j, matrix, num_neighbors=1, symbol=symbol),\n",
    "                    antidiagonal_left_search(i, j, matrix, num_neighbors=2, symbol=symbol)])\n",
    "    # scenario x x X x\n",
    "    horizontal2 = all([horizontal_left_search(i, j, matrix, num_neighbors=2, symbol=symbol),\n",
    "                     horizontal_right_search(i, j, matrix, num_neighbors=1, symbol=symbol)])\n",
    "    vertical2 = all([vertical_up_search(i, j, matrix, num_neighbors=2, symbol=symbol),\n",
    "                    vertical_down_search(i, j, matrix, num_neighbors=1, symbol=symbol)])\n",
    "    diagonal2 = all([diagonal_right_search(i, j, matrix, num_neighbors=2, symbol=symbol),\n",
    "                   diagonal_left_search(i, j, matrix, num_neighbors=1, symbol=symbol)])\n",
    "    antidiagonal2 = all([antidiagonal_right_search(i, j, matrix, num_neighbors=2, symbol=symbol),\n",
    "                    antidiagonal_left_search(i, j, matrix, num_neighbors=1, symbol=symbol)])\n",
    "    return any([horizontal1, vertical1, diagonal1, antidiagonal1, horizontal2, vertical2, diagonal2, antidiagonal2])  \n",
    "\n",
    "board5_1 = [\n",
    "    [ 0,  0,  0,  0,  0],\n",
    "    [ 0,  1,  1,  1,  1],\n",
    "    [ 0,  0,  0,  0,  0],\n",
    "    [ 0,  0,  0,  0,  0],\n",
    "    [ 0,  0,  0,  0,  0]]\n",
    "board5_2 = [\n",
    "    [ 0,  0,  0,  0,  0],\n",
    "    [ 0,  1,  1,  1,  1],\n",
    "    [ 0,  0,  0,  0,  0],\n",
    "    [ 0,  0,  0,  0,  0],\n",
    "    [ 0,  0,  0,  0,  0]]\n",
    "board5_3 = [\n",
    "    [ 0,  0,  0,  0,  0],\n",
    "    [ 0,  0,  1,  0,  0],\n",
    "    [ 0,  0,  1,  0,  0],\n",
    "    [ 0,  0,  1,  0,  0],\n",
    "    [ 0,  0,  1,  0,  0]]\n",
    "board5_4 = [\n",
    "    [ 0,  0,  0,  0,  0],\n",
    "    [ 0,  0,  0,  0,  0],\n",
    "    [ 0,  0,  1,  0,  0],\n",
    "    [ 0,  0,  1,  0,  0],\n",
    "    [ 0,  0,  1,  0,  0]]\n",
    "assert check_move_made_inbetween_three_moves(i=1, j=2, matrix=board5_1, symbol=1) == True\n",
    "assert check_move_made_inbetween_three_moves(i=1, j=3, matrix=board5_2, symbol=1) == True\n",
    "assert check_move_made_inbetween_three_moves(i=2, j=2, matrix=board5_3, symbol=1) == True\n",
    "assert check_move_made_inbetween_three_moves(i=3, j=2, matrix=board5_4, symbol=1) == False"
   ]
  },
  {
   "cell_type": "code",
   "execution_count": 18,
   "id": "b8995535",
   "metadata": {},
   "outputs": [],
   "source": [
    "def eval_attacker_move(i, j, matrix, num_neighbors, symbol):       \n",
    "    return any([\n",
    "        horizontal_left_search(i, j, matrix, num_neighbors, symbol),\n",
    "        horizontal_right_search(i, j, matrix, num_neighbors, symbol),\n",
    "        vertical_up_search(i, j, matrix, num_neighbors, symbol),\n",
    "        vertical_down_search(i, j, matrix, num_neighbors, symbol),\n",
    "        diagonal_right_search(i, j, matrix, num_neighbors, symbol),\n",
    "        diagonal_left_search(i, j, matrix, num_neighbors, symbol),\n",
    "        antidiagonal_right_search(i, j, matrix, num_neighbors, symbol),\n",
    "        antidiagonal_left_search(i, j, matrix, num_neighbors, symbol)])"
   ]
  },
  {
   "cell_type": "code",
   "execution_count": 19,
   "id": "709137b4",
   "metadata": {},
   "outputs": [],
   "source": [
    "def is_first_move(i, j, matrix, symbol):\n",
    "    count = 0\n",
    "    for i in range(0, len(matrix)):\n",
    "        for j in range(0, len(matrix[0])):\n",
    "            if matrix[i][j] == symbol:\n",
    "                count += 1\n",
    "            if count >= 2:\n",
    "                return False\n",
    "    return True\n",
    "\n",
    "board3_1 = [\n",
    "    [0, 0, 0],\n",
    "    [1, 0, 0],\n",
    "    [0, 0, 0]] \n",
    "assert is_first_move(i=1, j=0, matrix=board3_1, symbol=1) == True\n",
    "board3_2 = [\n",
    "    [0, 0, 0],\n",
    "    [1, 2, 0],\n",
    "    [0, 0, 1]]\n",
    "assert is_first_move(i=1, j=0, matrix=board3_2, symbol=1) == False"
   ]
  },
  {
   "cell_type": "code",
   "execution_count": 20,
   "id": "edff6128",
   "metadata": {},
   "outputs": [],
   "source": [
    "@snoop\n",
    "def eval_attacker_3x3(i, j, matrix):\n",
    "    exploit_file = \"exploit_3x3\"\n",
    "    symbol=1\n",
    "    if is_first_move(i, j, matrix, symbol=symbol):\n",
    "        # save scanned ports to a list\n",
    "        return \"port scan\"\n",
    "    if not eval_attacker_move(i, j, matrix, num_neighbors=1, symbol=symbol):\n",
    "        return \"NOP\"\n",
    "    if eval_attacker_move(i, j, matrix, num_neighbors=2, symbol=symbol):\n",
    "        try:\n",
    "            if read_file(exploit_file) == \"exploit initiated\":\n",
    "                return \"run exploit -- game over, attacker wins!\"\n",
    "        except FileNotFoundError:\n",
    "            return \"use exploit, run exploit -- game over, attacker wins!\"\n",
    "    if check_move_made_inbetween_two_moves(i, j, matrix, symbol):\n",
    "        try:\n",
    "            if read_file(exploit_file) == \"exploit initiated\":\n",
    "                return \"run exploit -- game over, attacker wins!\"\n",
    "        except FileNotFoundError:\n",
    "            return \"use exploit, run exploit -- game over, attacker wins!\"\n",
    "    if eval_attacker_move(i, j, matrix, num_neighbors=1, symbol=symbol):\n",
    "        write_file(exploit_file, \"exploit initiated\")\n",
    "        # retrieve command based on port from a list of ports and command from db of commands\n",
    "        return \"use and set commands to commence\"\n",
    "    return \"NOP\""
   ]
  },
  {
   "cell_type": "code",
   "execution_count": 21,
   "id": "66526bb4",
   "metadata": {},
   "outputs": [],
   "source": [
    "@snoop\n",
    "def eval_attacker_5x5(i, j, matrix):\n",
    "    exploit_file = \"exploit_5x5\"\n",
    "    set_file = \"set_5x5\"\n",
    "    symbol=1\n",
    "    if is_first_move(i, j, matrix, symbol=symbol):\n",
    "        # save scanned ports to a list\n",
    "        return \"port scan\"\n",
    "    if not eval_attacker_move(i, j, matrix, num_neighbors=1, symbol=symbol):\n",
    "        return \"NOP\"\n",
    "    if eval_attacker_move(i, j, matrix, num_neighbors=3, symbol=symbol):\n",
    "        try:\n",
    "            if read_file(set_file) == \"set initiated\":\n",
    "                return \"run exploit -- game over, attacker wins!\"\n",
    "        except FileNotFoundError:\n",
    "            return \"set exploit, run exploit -- game over, attacker wins!\"\n",
    "    if check_move_made_inbetween_three_moves(i, j, matrix, symbol):\n",
    "        try:\n",
    "            if read_file(set_file) == \"set initiated\":\n",
    "                return \"run exploit -- game over, attacker wins!\"\n",
    "        except FileNotFoundError:\n",
    "            return \"set exploit, run exploit -- game over, attacker wins!\"\n",
    "    if eval_attacker_move(i, j, matrix, num_neighbors=2, symbol=symbol):\n",
    "        try:\n",
    "            if read_file(exploit_file) == \"exploit initiated\":\n",
    "                return \"set exploit\"\n",
    "        except FileNotFoundError:\n",
    "            write_file(set_file, \"set initiated\")\n",
    "            return \"init exploit, set exploit\"\n",
    "    if check_move_made_inbetween_two_moves(i, j, matrix, symbol):\n",
    "        try:\n",
    "            if read_file(exploit_file) == \"exploit initiated\":\n",
    "                return \"set exploit\"\n",
    "        except FileNotFoundError:\n",
    "            write_file(set_file, \"set initiated\")\n",
    "            return \"init exploit, set exploit\"\n",
    "    if eval_attacker_move(i, j, matrix, num_neighbors=1, symbol=symbol):\n",
    "        write_file(exploit_file, \"exploit initiated\")\n",
    "        return \"use command to commence exploit\"\n",
    "    return \"NOP\""
   ]
  },
  {
   "cell_type": "code",
   "execution_count": 22,
   "id": "1abb0253",
   "metadata": {},
   "outputs": [
    {
     "name": "stderr",
     "output_type": "stream",
     "text": [
      "19:08:44.33 >>> Call to eval_move in File \"<ipython-input-22-35ed3c91b955>\", line 2\n",
      "19:08:44.33 ...... prev_state = [[1, 0, 1], [2, 2, 0], [1, 2, 0]]\n",
      "19:08:44.33 ...... len(prev_state) = 3\n",
      "19:08:44.33 ...... current_state = [[1, 1, 1], [2, 2, 0], [1, 0, 0]]\n",
      "19:08:44.33 ...... len(current_state) = 3\n",
      "19:08:44.33    2 | def eval_move(prev_state, current_state):\n",
      "19:08:44.33    3 |     move = get_latest_move(prev_state, current_state)\n",
      "19:08:44.33 .......... move = (0, 1)\n",
      "19:08:44.33 .......... len(move) = 2\n",
      "19:08:44.33    4 |     i = move[0]\n",
      "19:08:44.33 .......... i = 0\n",
      "19:08:44.33    5 |     j = move[1]\n",
      "19:08:44.33 .......... j = 1\n",
      "19:08:44.33    6 |     if current_state[i][j] == 1: # attacker\n",
      "19:08:44.33    7 |         if len(current_state) == 3:\n",
      "19:08:44.34    8 |             return eval_attacker_3x3(i, j, current_state)\n",
      "    19:08:44.34 >>> Call to eval_attacker_3x3 in File \"<ipython-input-20-1dfddd15a557>\", line 2\n",
      "    19:08:44.34 ...... i = 0\n",
      "    19:08:44.34 ...... j = 1\n",
      "    19:08:44.34 ...... matrix = [[1, 1, 1], [2, 2, 0], [1, 0, 0]]\n",
      "    19:08:44.34 ...... len(matrix) = 3\n",
      "    19:08:44.34    2 | def eval_attacker_3x3(i, j, matrix):\n",
      "    19:08:44.34    3 |     exploit_file = \"exploit_3x3\"\n",
      "    19:08:44.34 .......... exploit_file = 'exploit_3x3'\n",
      "    19:08:44.34    4 |     symbol=1\n",
      "    19:08:44.35 .......... symbol = 1\n",
      "    19:08:44.35    5 |     if is_first_move(i, j, matrix, symbol=symbol):\n",
      "    19:08:44.35    8 |     if not eval_attacker_move(i, j, matrix, num_neighbors=1, symbol=symbol):\n",
      "    19:08:44.35   10 |     if eval_attacker_move(i, j, matrix, num_neighbors=2, symbol=symbol):\n",
      "    19:08:44.35   16 |     if check_move_made_inbetween_two_moves(i, j, matrix, symbol):\n",
      "    19:08:44.35   17 |         try:\n",
      "    19:08:44.35   18 |             if read_file(exploit_file) == \"exploit initiated\":\n",
      "    19:08:44.38 !!! FileNotFoundError: [Errno 2] No such file or directory: 'io/exploit_3x3.txt'\n",
      "    19:08:44.38 !!! When calling: read_file(exploit_file)\n",
      "    19:08:44.38   20 |         except FileNotFoundError:\n",
      "    19:08:44.38   21 |             return \"use exploit, run exploit -- game over, attacker wins!\"\n",
      "    19:08:44.39 <<< Return value from eval_attacker_3x3: 'use exploit, run exploit -- game over, attacker wins!'\n",
      "19:08:44.39    8 |             return eval_attacker_3x3(i, j, current_state)\n",
      "19:08:44.39 <<< Return value from eval_move: 'use exploit, run exploit -- game over, attacker wins!'\n"
     ]
    },
    {
     "data": {
      "text/plain": [
       "'use exploit, run exploit -- game over, attacker wins!'"
      ]
     },
     "execution_count": 22,
     "metadata": {},
     "output_type": "execute_result"
    }
   ],
   "source": [
    "@snoop\n",
    "def eval_move(prev_state, current_state):\n",
    "    move = get_latest_move(prev_state, current_state)\n",
    "    i = move[0]\n",
    "    j = move[1]\n",
    "    if current_state[i][j] == 1: # attacker\n",
    "        if len(current_state) == 3:\n",
    "            return eval_attacker_3x3(i, j, current_state)\n",
    "        if len(current_state) == 5:\n",
    "            return eval_attacker_5x5(i, j, current_state)\n",
    "    elif current_state[i][j] == 2: # defender\n",
    "        return \"defender moves go here...\"\n",
    "    else:\n",
    "        return \"something has gone terribly wrong\" # ruh roh\n",
    "\n",
    "board_old = [\n",
    "    [1, 0, 1],\n",
    "    [2, 2, 0],\n",
    "    [1, 2, 0]]\n",
    "board_new = [\n",
    "    [1, 1, 1],\n",
    "    [2, 2, 0],\n",
    "    [1, 0, 0]]\n",
    "eval_move(board_old, board_new)"
   ]
  },
  {
   "cell_type": "code",
   "execution_count": 23,
   "id": "1c5cabb2",
   "metadata": {},
   "outputs": [
    {
     "name": "stderr",
     "output_type": "stream",
     "text": [
      "19:08:44.44 >>> Call to eval_move in File \"<ipython-input-23-6acf60c68c91>\", line 2\n",
      "19:08:44.44 ...... prev_state = [[0, 0, 0, 0, 0], [0, 0, 1, 0, 0], [0, 2, 1, 2, 0], [0, 0, 0, 0, 1], [0, 0, 1, 0, 1]]\n",
      "19:08:44.44 ...... len(prev_state) = 5\n",
      "19:08:44.44 ...... current_state = [[0, 0, 0, 0, 0], [0, 0, 1, 0, 0], [0, 2, 1, 2, 0], [0, 0, 1, 0, 1], [0, 0, 1, 0, 1]]\n",
      "19:08:44.44 ...... len(current_state) = 5\n",
      "19:08:44.44    2 | def eval_move(prev_state, current_state):\n",
      "19:08:44.44    3 |     move = get_latest_move(prev_state, current_state)\n",
      "19:08:44.44 .......... move = (3, 2)\n",
      "19:08:44.44 .......... len(move) = 2\n",
      "19:08:44.44    4 |     i = move[0]\n",
      "19:08:44.45 .......... i = 3\n",
      "19:08:44.45    5 |     j = move[1]\n",
      "19:08:44.45 .......... j = 2\n",
      "19:08:44.45    6 |     if current_state[i][j] == 1: # attacker\n",
      "19:08:44.45    7 |         if len(current_state) == 3:\n",
      "19:08:44.45    9 |         if len(current_state) == 5:\n",
      "19:08:44.45   10 |             return eval_attacker_5x5(i, j, current_state)\n",
      "    19:08:44.46 >>> Call to eval_attacker_5x5 in File \"<ipython-input-21-28baf72d49f8>\", line 2\n",
      "    19:08:44.46 ...... i = 3\n",
      "    19:08:44.46 ...... j = 2\n",
      "    19:08:44.46 ...... matrix = [[0, 0, 0, 0, 0], [0, 0, 1, 0, 0], [0, 2, 1, 2, 0], [0, 0, 1, 0, 1], [0, 0, 1, 0, 1]]\n",
      "    19:08:44.46 ...... len(matrix) = 5\n",
      "    19:08:44.46    2 | def eval_attacker_5x5(i, j, matrix):\n",
      "    19:08:44.46    3 |     exploit_file = \"exploit_5x5\"\n",
      "    19:08:44.47 .......... exploit_file = 'exploit_5x5'\n",
      "    19:08:44.47    4 |     set_file = \"set_5x5\"\n",
      "    19:08:44.48 .......... set_file = 'set_5x5'\n",
      "    19:08:44.48    5 |     symbol=1\n",
      "    19:08:44.48 .......... symbol = 1\n",
      "    19:08:44.48    6 |     if is_first_move(i, j, matrix, symbol=symbol):\n",
      "    19:08:44.48    9 |     if not eval_attacker_move(i, j, matrix, num_neighbors=1, symbol=symbol):\n",
      "    19:08:44.49   11 |     if eval_attacker_move(i, j, matrix, num_neighbors=3, symbol=symbol):\n",
      "    19:08:44.49   17 |     if check_move_made_inbetween_three_moves(i, j, matrix, symbol):\n",
      "    19:08:44.49   18 |         try:\n",
      "    19:08:44.50   19 |             if read_file(set_file) == \"set initiated\":\n",
      "    19:08:44.52 !!! FileNotFoundError: [Errno 2] No such file or directory: 'io/set_5x5.txt'\n",
      "    19:08:44.52 !!! When calling: read_file(set_file)\n",
      "    19:08:44.52   21 |         except FileNotFoundError:\n",
      "    19:08:44.52   22 |             return \"set exploit, run exploit -- game over, attacker wins!\"\n",
      "    19:08:44.53 <<< Return value from eval_attacker_5x5: 'set exploit, run exploit -- game over, attacker wins!'\n",
      "19:08:44.53   10 |             return eval_attacker_5x5(i, j, current_state)\n",
      "19:08:44.53 <<< Return value from eval_move: 'set exploit, run exploit -- game over, attacker wins!'\n"
     ]
    },
    {
     "data": {
      "text/plain": [
       "'set exploit, run exploit -- game over, attacker wins!'"
      ]
     },
     "execution_count": 23,
     "metadata": {},
     "output_type": "execute_result"
    }
   ],
   "source": [
    "@snoop\n",
    "def eval_move(prev_state, current_state):\n",
    "    move = get_latest_move(prev_state, current_state)\n",
    "    i = move[0]\n",
    "    j = move[1]\n",
    "    if current_state[i][j] == 1: # attacker\n",
    "        if len(current_state) == 3:\n",
    "            return eval_attacker_3x3(i, j, current_state)\n",
    "        if len(current_state) == 5:\n",
    "            return eval_attacker_5x5(i, j, current_state)\n",
    "    elif current_state[i][j] == 2: # defender\n",
    "        return \"defender moves go here...\"\n",
    "    else:\n",
    "        return \"something has gone terribly wrong\" # ruh roh\n",
    "\n",
    "board_old = [\n",
    "    [ 0,  0,  0,  0,  0],\n",
    "    [ 0,  0,  1,  0,  0],\n",
    "    [ 0,  2,  1,  2,  0],\n",
    "    [ 0,  0,  0,  0,  1],\n",
    "    [ 0,  0,  1,  0,  1]]\n",
    "board_new = [\n",
    "    [ 0,  0,  0,  0,  0],\n",
    "    [ 0,  0,  1,  0,  0],\n",
    "    [ 0,  2,  1,  2,  0],\n",
    "    [ 0,  0,  1,  0,  1],\n",
    "    [ 0,  0,  1,  0,  1]]\n",
    "eval_move(board_old, board_new)"
   ]
  },
  {
   "cell_type": "code",
   "execution_count": null,
   "id": "6831c08d",
   "metadata": {},
   "outputs": [],
   "source": []
  },
  {
   "cell_type": "code",
   "execution_count": 24,
   "id": "3723d657",
   "metadata": {},
   "outputs": [
    {
     "data": {
      "text/plain": [
       "{(0, 1, 1), (1, 0, 1), (1, 1, 0)}"
      ]
     },
     "execution_count": 24,
     "metadata": {},
     "output_type": "execute_result"
    }
   ],
   "source": [
    "import itertools\n",
    "set(itertools.permutations([1, 0, 1]))"
   ]
  },
  {
   "cell_type": "code",
   "execution_count": null,
   "id": "f0bd85ab",
   "metadata": {},
   "outputs": [],
   "source": []
  }
 ],
 "metadata": {
  "kernelspec": {
   "display_name": "Python (advAI-game)",
   "language": "python",
   "name": "advai-game"
  },
  "language_info": {
   "codemirror_mode": {
    "name": "ipython",
    "version": 3
   },
   "file_extension": ".py",
   "mimetype": "text/x-python",
   "name": "python",
   "nbconvert_exporter": "python",
   "pygments_lexer": "ipython3",
   "version": "3.8.12"
  },
  "varInspector": {
   "cols": {
    "lenName": 16,
    "lenType": 16,
    "lenVar": 40
   },
   "kernels_config": {
    "python": {
     "delete_cmd_postfix": "",
     "delete_cmd_prefix": "del ",
     "library": "var_list.py",
     "varRefreshCmd": "print(var_dic_list())"
    },
    "r": {
     "delete_cmd_postfix": ") ",
     "delete_cmd_prefix": "rm(",
     "library": "var_list.r",
     "varRefreshCmd": "cat(var_dic_list()) "
    }
   },
   "types_to_exclude": [
    "module",
    "function",
    "builtin_function_or_method",
    "instance",
    "_Feature"
   ],
   "window_display": false
  }
 },
 "nbformat": 4,
 "nbformat_minor": 5
}
