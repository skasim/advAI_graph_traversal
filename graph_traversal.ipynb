{
 "cells": [
  {
   "cell_type": "code",
   "execution_count": 1,
   "id": "7443c5db",
   "metadata": {},
   "outputs": [],
   "source": [
    "from typing import List, Tuple\n",
    "import snoop"
   ]
  },
  {
   "cell_type": "code",
   "execution_count": null,
   "id": "bedbcce3",
   "metadata": {},
   "outputs": [],
   "source": []
  },
  {
   "cell_type": "code",
   "execution_count": 2,
   "id": "d7dcb657",
   "metadata": {},
   "outputs": [],
   "source": [
    "board_old = [\n",
    "    [0, 1, 0],\n",
    "    [0, 0, 2],\n",
    "    [0, 0, 0]]\n",
    "board_new = [\n",
    "    [0, 0, 0],\n",
    "    [0, 0, 0],\n",
    "    [1, 0, 0]]\n",
    "# 0 = empty, 1 = X, 2 = O"
   ]
  },
  {
   "cell_type": "code",
   "execution_count": 3,
   "id": "d4e4a19f",
   "metadata": {},
   "outputs": [],
   "source": [
    "def get_latest_move(prev_state: List[List[int]], current_state: List[List[int]])-> Tuple[int, int]:\n",
    "    for i in range(0, len(prev_state)):\n",
    "        for j in range(0, len(current_state[0])):\n",
    "            if prev_state[i][j] != current_state[i][j]:\n",
    "                return (i,j)"
   ]
  },
  {
   "cell_type": "code",
   "execution_count": 4,
   "id": "a0967500",
   "metadata": {},
   "outputs": [],
   "source": [
    "assert get_latest_move(board_old, board_new) == (0,1)"
   ]
  },
  {
   "cell_type": "code",
   "execution_count": 89,
   "id": "4605d065",
   "metadata": {},
   "outputs": [],
   "source": [
    "def adjacency_check(i, j, matrix, num_neighbors=2):\n",
    "    min_i = 0 \n",
    "    min_j = 0\n",
    "    max_i = len(matrix) - 1\n",
    "    max_j = len(matrix[0]) - 1\n",
    "    \n",
    "    start_pos_i = i + (i - min_i) if i - num_neighbors < min_i else i - num_neighbors\n",
    "    start_pos_j = j + (j - min_j) if j - num_neighbors < min_j else j - num_neighbors\n",
    "    end_pos_i = i + (max_i - i) if i + num_neighbors > max_i else i + num_neighbors\n",
    "    end_pos_j = j + (max_j - j) if j + num_neighbors > max_j else j + num_neighbors  \n",
    "\n",
    "    locs = []\n",
    "    for _i in range(start_pos_i, end_pos_i + 1):\n",
    "        for _j in range(start_pos_j, end_pos_j + 1): \n",
    "            locs.append((_i, _j))\n",
    "    horizontal = [loc for loc in locs if loc[0]==i]\n",
    "    vertical = [loc for loc in locs if loc[1]==j]\n",
    "    diagonal = [loc for loc in locs if loc[0]==loc[1]]\n",
    "    antidiagonal = [loc for loc in locs if loc[0]+loc[1]==(i+j)]\n",
    "    return {\n",
    "        \"horizontal\": horizontal,\n",
    "        \"vertical\": vertical,\n",
    "        \"diagonal\": diagonal,\n",
    "        \"antidiagonal\": antidiagonal\n",
    "    }"
   ]
  },
  {
   "cell_type": "code",
   "execution_count": 88,
   "id": "ba23fb71",
   "metadata": {},
   "outputs": [],
   "source": [
    "board_adj = [\n",
    "    [1, 2, 3, 4, 5],\n",
    "    [6, 7, 8, 9, 10],\n",
    "    [11, 12, 13, 14, 15],\n",
    "    [16, 17, 18, 19, 20],\n",
    "    [21, 22, 23, 24, 25]]\n",
    "\n",
    "ba = adjacency_check(i=3, j=3, matrix=board_adj)\n",
    "assert ba[\"horizontal\"] == [(3, 1), (3, 2), (3, 3), (3, 4)]\n",
    "assert ba[\"vertical\"] == [(1, 3), (2, 3), (3, 3), (4, 3)]\n",
    "assert ba[\"diagonal\"] == [(1, 1), (2, 2), (3, 3), (4, 4)]\n",
    "assert ba[\"antidiagonal\"] == [(2, 4), (3, 3), (4, 2)]"
   ]
  },
  {
   "cell_type": "code",
   "execution_count": 91,
   "id": "4dd40ba8",
   "metadata": {},
   "outputs": [
    {
     "name": "stdout",
     "output_type": "stream",
     "text": [
      "{'antidiagonal': [(2, 4), (3, 3), (4, 2)],\n",
      " 'diagonal': [(1, 1), (2, 2), (3, 3), (4, 4)],\n",
      " 'horizontal': [(3, 1), (3, 2), (3, 3), (3, 4)],\n",
      " 'vertical': [(1, 3), (2, 3), (3, 3), (4, 3)]}\n"
     ]
    }
   ],
   "source": [
    "from pprint import pprint\n",
    "pprint(ba)"
   ]
  },
  {
   "cell_type": "code",
   "execution_count": 110,
   "id": "f921db54",
   "metadata": {},
   "outputs": [
    {
     "data": {
      "text/plain": [
       "False"
      ]
     },
     "execution_count": 110,
     "metadata": {},
     "output_type": "execute_result"
    }
   ],
   "source": [
    "def horizontal_left_search(i, j, matrix, num_neighbors):\n",
    "    min_i = 0 \n",
    "    min_j = 0\n",
    "    max_i = len(matrix) - 1\n",
    "    max_j = len(matrix[0]) - 1\n",
    "    \n",
    "    xs = []\n",
    "    for n in range(0, num_neighbors+1):\n",
    "        _i = i\n",
    "        _j = j - n\n",
    "        if _i >= min_i and _j >= min_j and _i <= max_i and _j <= max_j:\n",
    "            xs.append(matrix[_i][_j])\n",
    "    return all(item == 1 for item in xs)\n",
    "\n",
    "board = [\n",
    "    [ 1,  2,  3,  4,  5],\n",
    "    [ 6,  7,  8,  9, 10],\n",
    "    [11, 12, 13, 14, 15],\n",
    "    [16, 17, 18, 19, 20],\n",
    "    [21, 22, 23, 24, 25]]\n",
    "horizontal_left_search(i=2, j=1, matrix=board, num_neighbors=2)"
   ]
  },
  {
   "cell_type": "code",
   "execution_count": 112,
   "id": "69ba0fd2",
   "metadata": {},
   "outputs": [
    {
     "name": "stdout",
     "output_type": "stream",
     "text": [
      "[12]\n",
      "[12, 13]\n",
      "[12, 13, 14]\n"
     ]
    }
   ],
   "source": [
    "def horizontal_right_search(i, j, matrix, num_neighbors):\n",
    "    min_i = 0 \n",
    "    min_j = 0\n",
    "    max_i = len(matrix) - 1\n",
    "    max_j = len(matrix[0]) - 1\n",
    "    \n",
    "    xs = []\n",
    "    for n in range(0, num_neighbors+1):\n",
    "        _i = i\n",
    "        _j = j + n\n",
    "        if _i >= min_i and _j >= min_j and _i <= max_i and _j <= max_j:\n",
    "            xs.append(matrix[_i][_j])\n",
    "    print(xs)\n",
    "#     return all(item == 1 for item in xs)\n",
    "\n",
    "board = [\n",
    "    [ 1,  2,  3,  4,  5],\n",
    "    [ 6,  7,  8,  9, 10],\n",
    "    [11, 12, 13, 14, 15],\n",
    "    [16, 17, 18, 19, 20],\n",
    "    [21, 22, 23, 24, 25]]\n",
    "horizontal_right_search(i=2, j=1, matrix=board, num_neighbors=2)"
   ]
  },
  {
   "cell_type": "code",
   "execution_count": 113,
   "id": "4473552d",
   "metadata": {},
   "outputs": [
    {
     "name": "stdout",
     "output_type": "stream",
     "text": [
      "[12, 7, 2]\n"
     ]
    }
   ],
   "source": [
    "def vertical_up_search(i, j, matrix, num_neighbors):\n",
    "    min_i = 0 \n",
    "    min_j = 0\n",
    "    max_i = len(matrix) - 1\n",
    "    max_j = len(matrix[0]) - 1\n",
    "    \n",
    "    xs = []\n",
    "    for n in range(0, num_neighbors+1):\n",
    "        _i = i - n\n",
    "        _j = j\n",
    "        if _i >= min_i and _j >= min_j and _i <= max_i and _j <= max_j:\n",
    "            xs.append(matrix[_i][_j])\n",
    "    print(xs)\n",
    "#     return all(item == 1 for item in xs)\n",
    "\n",
    "board = [\n",
    "    [ 1,  2,  3,  4,  5],\n",
    "    [ 6,  7,  8,  9, 10],\n",
    "    [11, 12, 13, 14, 15],\n",
    "    [16, 17, 18, 19, 20],\n",
    "    [21, 22, 23, 24, 25]]\n",
    "vertical_up_search(i=2, j=1, matrix=board, num_neighbors=2)"
   ]
  },
  {
   "cell_type": "code",
   "execution_count": 114,
   "id": "c1a4d64a",
   "metadata": {},
   "outputs": [
    {
     "name": "stdout",
     "output_type": "stream",
     "text": [
      "[12, 17, 22]\n"
     ]
    }
   ],
   "source": [
    "def vertical_down_search(i, j, matrix, num_neighbors):\n",
    "    min_i = 0 \n",
    "    min_j = 0\n",
    "    max_i = len(matrix) - 1\n",
    "    max_j = len(matrix[0]) - 1\n",
    "    \n",
    "    xs = []\n",
    "    for n in range(0, num_neighbors+1):\n",
    "        _i = i + n\n",
    "        _j = j\n",
    "        if _i >= min_i and _j >= min_j and _i <= max_i and _j <= max_j:\n",
    "            xs.append(matrix[_i][_j])\n",
    "    print(xs)\n",
    "#     return all(item == 1 for item in xs)\n",
    "\n",
    "board = [\n",
    "    [ 1,  2,  3,  4,  5],\n",
    "    [ 6,  7,  8,  9, 10],\n",
    "    [11, 12, 13, 14, 15],\n",
    "    [16, 17, 18, 19, 20],\n",
    "    [21, 22, 23, 24, 25]]\n",
    "vertical_down_search(i=2, j=1, matrix=board, num_neighbors=2)"
   ]
  },
  {
   "cell_type": "code",
   "execution_count": 117,
   "id": "d35f6bb4",
   "metadata": {},
   "outputs": [
    {
     "name": "stdout",
     "output_type": "stream",
     "text": [
      "[13, 7, 1]\n"
     ]
    }
   ],
   "source": [
    "def diagonal_left_search(i, j, matrix, num_neighbors):\n",
    "    min_i = 0 \n",
    "    min_j = 0\n",
    "    max_i = len(matrix) - 1\n",
    "    max_j = len(matrix[0]) - 1\n",
    "    \n",
    "    xs = []\n",
    "    for n in range(0, num_neighbors+1):\n",
    "        _i = i - n\n",
    "        _j = j - n \n",
    "        if _i >= min_i and _j >= min_j and _i <= max_i and _j <= max_j:\n",
    "            xs.append(matrix[_i][_j])\n",
    "    print(xs)\n",
    "#     return all(item == 1 for item in xs)\n",
    "\n",
    "board = [\n",
    "    [ 1,  2,  3,  4,  5],\n",
    "    [ 6,  7,  8,  9, 10],\n",
    "    [11, 12, 13, 14, 15],\n",
    "    [16, 17, 18, 19, 20],\n",
    "    [21, 22, 23, 24, 25]]\n",
    "diagonal_left_search(i=2, j=2, matrix=board, num_neighbors=2)"
   ]
  },
  {
   "cell_type": "code",
   "execution_count": 118,
   "id": "f313b736",
   "metadata": {},
   "outputs": [
    {
     "name": "stdout",
     "output_type": "stream",
     "text": [
      "[13, 19, 25]\n"
     ]
    }
   ],
   "source": [
    "def diagonal_right_search(i, j, matrix, num_neighbors):\n",
    "    min_i = 0 \n",
    "    min_j = 0\n",
    "    max_i = len(matrix) - 1\n",
    "    max_j = len(matrix[0]) - 1\n",
    "    \n",
    "    xs = []\n",
    "    for n in range(0, num_neighbors+1):\n",
    "        _i = i + n\n",
    "        _j = j + n \n",
    "        if _i >= min_i and _j >= min_j and _i <= max_i and _j <= max_j:\n",
    "            xs.append(matrix[_i][_j])\n",
    "    print(xs)\n",
    "#     return all(item == 1 for item in xs)\n",
    "\n",
    "board = [\n",
    "    [ 1,  2,  3,  4,  5],\n",
    "    [ 6,  7,  8,  9, 10],\n",
    "    [11, 12, 13, 14, 15],\n",
    "    [16, 17, 18, 19, 20],\n",
    "    [21, 22, 23, 24, 25]]\n",
    "diagonal_right_search(i=2, j=2, matrix=board, num_neighbors=2)"
   ]
  },
  {
   "cell_type": "code",
   "execution_count": 120,
   "id": "1afb175c",
   "metadata": {},
   "outputs": [
    {
     "name": "stdout",
     "output_type": "stream",
     "text": [
      "[13, 7, 1]\n"
     ]
    }
   ],
   "source": [
    "def antidiagonal_left_search(i, j, matrix, num_neighbors):\n",
    "    min_i = 0 \n",
    "    min_j = 0\n",
    "    max_i = len(matrix) - 1\n",
    "    max_j = len(matrix[0]) - 1\n",
    "    \n",
    "    xs = []\n",
    "    for n in range(0, num_neighbors+1):\n",
    "        _i = i - n\n",
    "        _j = j - n \n",
    "        if _i >= min_i and _j >= min_j and _i <= max_i and _j <= max_j:\n",
    "            xs.append(matrix[_i][_j])\n",
    "    print(xs)\n",
    "#     return all(item == 1 for item in xs)\n",
    "\n",
    "board = [\n",
    "    [ 1,  2,  3,  4,  5],\n",
    "    [ 6,  7,  8,  9, 10],\n",
    "    [11, 12, 13, 14, 15],\n",
    "    [16, 17, 18, 19, 20],\n",
    "    [21, 22, 23, 24, 25]]\n",
    "antidiagonal_left_search(i=2, j=2, matrix=board, num_neighbors=2)"
   ]
  },
  {
   "cell_type": "code",
   "execution_count": 122,
   "id": "484b56f9",
   "metadata": {},
   "outputs": [
    {
     "name": "stdout",
     "output_type": "stream",
     "text": [
      "[13, 19, 25]\n"
     ]
    }
   ],
   "source": [
    "def antidiagonal_right_search(i, j, matrix, num_neighbors):\n",
    "    min_i = 0 \n",
    "    min_j = 0\n",
    "    max_i = len(matrix) - 1\n",
    "    max_j = len(matrix[0]) - 1\n",
    "    \n",
    "    xs = []\n",
    "    for n in range(0, num_neighbors+1):\n",
    "        _i = i + n\n",
    "        _j = j + n \n",
    "        if _i >= min_i and _j >= min_j and _i <= max_i and _j <= max_j:\n",
    "            xs.append(matrix[_i][_j])\n",
    "    print(xs)\n",
    "#     return all(item == 1 for item in xs)\n",
    "\n",
    "board = [\n",
    "    [ 1,  2,  3,  4,  5],\n",
    "    [ 6,  7,  8,  9, 10],\n",
    "    [11, 12, 13, 14, 15],\n",
    "    [16, 17, 18, 19, 20],\n",
    "    [21, 22, 23, 24, 25]]\n",
    "antidiagonal_right_search(i=2, j=2, matrix=board, num_neighbors=2)"
   ]
  },
  {
   "cell_type": "code",
   "execution_count": null,
   "id": "09ebc0ad",
   "metadata": {},
   "outputs": [],
   "source": [
    "def check_middle_for_x_win(i, j, matrix):\n",
    "        num_neighbors = 1\n",
    "        \n",
    "        horizontal = all(horizontal_left_search(i, j, matrix, num_neighbors),\n",
    "                         horizontal_left_search(i, j, matrix, num_neighbors))\n",
    "        vertical = all(vertical_up_search(i, j, matrix, num_neighbors),\n",
    "                        vertical_down_search(i, j, matrix, num_neighbors))\n",
    "        diagonal = all(diagonal_right_search(i, j, matrix, num_neighbors),\n",
    "                       diagonal_left_search(i, j, matrix, num_neighbors))\n",
    "        antidiagonal = all(antidiagonal_right_search(i, j, matrix, num_neighbors),\n",
    "                        antidiagonal_left_search(i, j, matrix, num_neighbors))\n",
    "        \n",
    "        return any(horizontal, vertical, diagonal, antidiagonal)  "
   ]
  },
  {
   "cell_type": "code",
   "execution_count": null,
   "id": "8bcf6986",
   "metadata": {},
   "outputs": [],
   "source": [
    "def eval_attacker_move(i, j, matrix):\n",
    "    return any(\n",
    "        horizontal_left_search(i, j, matrix, num_neighbors),\n",
    "        horizontal_right_search(i, j, matrix, num_neighbors),\n",
    "        vertical_up_search(i, j, matrix, num_neighbors),\n",
    "        vertical_down_search(i, j, matrix, num_neighbors),\n",
    "        diagonal_right_search(i, j, matrix, num_neighbors),\n",
    "        diagonal_left_search(i, j, matrix, num_neighbors),\n",
    "        antidiagonal_right_search(i, j, matrix, num_neighbors),\n",
    "        antidiagonal_left_search(i, j, matrix, num_neighbors),   \n",
    "    )"
   ]
  },
  {
   "cell_type": "code",
   "execution_count": 126,
   "id": "97656042",
   "metadata": {},
   "outputs": [
    {
     "data": {
      "text/plain": [
       "{(0, 1, 1), (1, 0, 1), (1, 1, 0)}"
      ]
     },
     "execution_count": 126,
     "metadata": {},
     "output_type": "execute_result"
    }
   ],
   "source": [
    "import itertools\n",
    "set(itertools.permutations([1, 0, 1]))"
   ]
  },
  {
   "cell_type": "code",
   "execution_count": null,
   "id": "bcb94062",
   "metadata": {},
   "outputs": [],
   "source": []
  }
 ],
 "metadata": {
  "kernelspec": {
   "display_name": "Python (advAI-game)",
   "language": "python",
   "name": "advai-game"
  },
  "language_info": {
   "codemirror_mode": {
    "name": "ipython",
    "version": 3
   },
   "file_extension": ".py",
   "mimetype": "text/x-python",
   "name": "python",
   "nbconvert_exporter": "python",
   "pygments_lexer": "ipython3",
   "version": "3.8.12"
  },
  "varInspector": {
   "cols": {
    "lenName": 16,
    "lenType": 16,
    "lenVar": 40
   },
   "kernels_config": {
    "python": {
     "delete_cmd_postfix": "",
     "delete_cmd_prefix": "del ",
     "library": "var_list.py",
     "varRefreshCmd": "print(var_dic_list())"
    },
    "r": {
     "delete_cmd_postfix": ") ",
     "delete_cmd_prefix": "rm(",
     "library": "var_list.r",
     "varRefreshCmd": "cat(var_dic_list()) "
    }
   },
   "types_to_exclude": [
    "module",
    "function",
    "builtin_function_or_method",
    "instance",
    "_Feature"
   ],
   "window_display": false
  }
 },
 "nbformat": 4,
 "nbformat_minor": 5
}
